{
 "cells": [
  {
   "cell_type": "code",
   "execution_count": 16,
   "metadata": {},
   "outputs": [
    {
     "name": "stdout",
     "output_type": "stream",
     "text": [
      "['who.py', 'README.md', '.git', 'who_suicide_statistics.csv', 'Untitled.ipynb', '.ipynb_checkpoints']\n"
     ]
    }
   ],
   "source": [
    "import numpy as np # linear algebra\n",
    "import pandas as pd # data processing, CSV file I/O (e.g. pd.read_csv)\n",
    "import os\n",
    "import matplotlib.pyplot as plt\n",
    "print(os.listdir())"
   ]
  },
  {
   "cell_type": "code",
   "execution_count": 17,
   "metadata": {},
   "outputs": [
    {
     "data": {
      "text/plain": [
       "(43776, 6)"
      ]
     },
     "execution_count": 17,
     "metadata": {},
     "output_type": "execute_result"
    }
   ],
   "source": [
    "country = pd.read_csv('who_suicide_statistics.csv')\n",
    "country.shape"
   ]
  },
  {
   "cell_type": "code",
   "execution_count": 18,
   "metadata": {},
   "outputs": [
    {
     "data": {
      "text/html": [
       "<div>\n",
       "<style scoped>\n",
       "    .dataframe tbody tr th:only-of-type {\n",
       "        vertical-align: middle;\n",
       "    }\n",
       "\n",
       "    .dataframe tbody tr th {\n",
       "        vertical-align: top;\n",
       "    }\n",
       "\n",
       "    .dataframe thead th {\n",
       "        text-align: right;\n",
       "    }\n",
       "</style>\n",
       "<table border=\"1\" class=\"dataframe\">\n",
       "  <thead>\n",
       "    <tr style=\"text-align: right;\">\n",
       "      <th></th>\n",
       "      <th>country</th>\n",
       "      <th>year</th>\n",
       "      <th>sex</th>\n",
       "      <th>age</th>\n",
       "      <th>suicides_no</th>\n",
       "      <th>population</th>\n",
       "    </tr>\n",
       "  </thead>\n",
       "  <tbody>\n",
       "    <tr>\n",
       "      <th>0</th>\n",
       "      <td>Albania</td>\n",
       "      <td>1985</td>\n",
       "      <td>female</td>\n",
       "      <td>15-24 years</td>\n",
       "      <td>NaN</td>\n",
       "      <td>277900.0</td>\n",
       "    </tr>\n",
       "    <tr>\n",
       "      <th>1</th>\n",
       "      <td>Albania</td>\n",
       "      <td>1985</td>\n",
       "      <td>female</td>\n",
       "      <td>25-34 years</td>\n",
       "      <td>NaN</td>\n",
       "      <td>246800.0</td>\n",
       "    </tr>\n",
       "    <tr>\n",
       "      <th>2</th>\n",
       "      <td>Albania</td>\n",
       "      <td>1985</td>\n",
       "      <td>female</td>\n",
       "      <td>35-54 years</td>\n",
       "      <td>NaN</td>\n",
       "      <td>267500.0</td>\n",
       "    </tr>\n",
       "    <tr>\n",
       "      <th>3</th>\n",
       "      <td>Albania</td>\n",
       "      <td>1985</td>\n",
       "      <td>female</td>\n",
       "      <td>5-14 years</td>\n",
       "      <td>NaN</td>\n",
       "      <td>298300.0</td>\n",
       "    </tr>\n",
       "    <tr>\n",
       "      <th>4</th>\n",
       "      <td>Albania</td>\n",
       "      <td>1985</td>\n",
       "      <td>female</td>\n",
       "      <td>55-74 years</td>\n",
       "      <td>NaN</td>\n",
       "      <td>138700.0</td>\n",
       "    </tr>\n",
       "  </tbody>\n",
       "</table>\n",
       "</div>"
      ],
      "text/plain": [
       "   country  year     sex          age  suicides_no  population\n",
       "0  Albania  1985  female  15-24 years          NaN    277900.0\n",
       "1  Albania  1985  female  25-34 years          NaN    246800.0\n",
       "2  Albania  1985  female  35-54 years          NaN    267500.0\n",
       "3  Albania  1985  female   5-14 years          NaN    298300.0\n",
       "4  Albania  1985  female  55-74 years          NaN    138700.0"
      ]
     },
     "execution_count": 18,
     "metadata": {},
     "output_type": "execute_result"
    }
   ],
   "source": [
    "country.head()"
   ]
  },
  {
   "cell_type": "code",
   "execution_count": 19,
   "metadata": {},
   "outputs": [
    {
     "data": {
      "text/plain": [
       "(36060, 6)"
      ]
     },
     "execution_count": 19,
     "metadata": {},
     "output_type": "execute_result"
    }
   ],
   "source": [
    "country.dropna(axis=0,inplace =True)\n",
    "country.isnull().sum()\n",
    "#country.shape"
   ]
  },
  {
   "cell_type": "code",
   "execution_count": 20,
   "metadata": {},
   "outputs": [
    {
     "data": {
      "text/plain": [
       "array([False])"
      ]
     },
     "execution_count": 20,
     "metadata": {},
     "output_type": "execute_result"
    }
   ],
   "source": [
    "Dub = country.duplicated()\n",
    "np.unique(Dub)"
   ]
  },
  {
   "cell_type": "code",
   "execution_count": 21,
   "metadata": {},
   "outputs": [
    {
     "data": {
      "text/html": [
       "<div>\n",
       "<style scoped>\n",
       "    .dataframe tbody tr th:only-of-type {\n",
       "        vertical-align: middle;\n",
       "    }\n",
       "\n",
       "    .dataframe tbody tr th {\n",
       "        vertical-align: top;\n",
       "    }\n",
       "\n",
       "    .dataframe thead th {\n",
       "        text-align: right;\n",
       "    }\n",
       "</style>\n",
       "<table border=\"1\" class=\"dataframe\">\n",
       "  <thead>\n",
       "    <tr style=\"text-align: right;\">\n",
       "      <th></th>\n",
       "      <th>country</th>\n",
       "      <th>year</th>\n",
       "      <th>sex</th>\n",
       "      <th>age</th>\n",
       "      <th>suicides_no</th>\n",
       "      <th>population</th>\n",
       "    </tr>\n",
       "  </thead>\n",
       "  <tbody>\n",
       "    <tr>\n",
       "      <th>24</th>\n",
       "      <td>Albania</td>\n",
       "      <td>1987</td>\n",
       "      <td>0</td>\n",
       "      <td>0</td>\n",
       "      <td>14.0</td>\n",
       "      <td>289700.0</td>\n",
       "    </tr>\n",
       "    <tr>\n",
       "      <th>25</th>\n",
       "      <td>Albania</td>\n",
       "      <td>1987</td>\n",
       "      <td>0</td>\n",
       "      <td>1</td>\n",
       "      <td>4.0</td>\n",
       "      <td>257200.0</td>\n",
       "    </tr>\n",
       "    <tr>\n",
       "      <th>26</th>\n",
       "      <td>Albania</td>\n",
       "      <td>1987</td>\n",
       "      <td>0</td>\n",
       "      <td>2</td>\n",
       "      <td>6.0</td>\n",
       "      <td>278800.0</td>\n",
       "    </tr>\n",
       "    <tr>\n",
       "      <th>27</th>\n",
       "      <td>Albania</td>\n",
       "      <td>1987</td>\n",
       "      <td>0</td>\n",
       "      <td>3</td>\n",
       "      <td>0.0</td>\n",
       "      <td>311000.0</td>\n",
       "    </tr>\n",
       "    <tr>\n",
       "      <th>28</th>\n",
       "      <td>Albania</td>\n",
       "      <td>1987</td>\n",
       "      <td>0</td>\n",
       "      <td>4</td>\n",
       "      <td>0.0</td>\n",
       "      <td>144600.0</td>\n",
       "    </tr>\n",
       "  </tbody>\n",
       "</table>\n",
       "</div>"
      ],
      "text/plain": [
       "    country  year  sex  age  suicides_no  population\n",
       "24  Albania  1987    0    0         14.0    289700.0\n",
       "25  Albania  1987    0    1          4.0    257200.0\n",
       "26  Albania  1987    0    2          6.0    278800.0\n",
       "27  Albania  1987    0    3          0.0    311000.0\n",
       "28  Albania  1987    0    4          0.0    144600.0"
      ]
     },
     "execution_count": 21,
     "metadata": {},
     "output_type": "execute_result"
    }
   ],
   "source": [
    "from sklearn import preprocessing\n",
    "\n",
    "le = preprocessing.LabelEncoder()\n",
    "country.sex = le.fit_transform(country.sex) # female:0 , male:1\n",
    "country.age = le.fit_transform(country.age) # 15-24: 0, 25-34:1, 35-54:2 , 5-14:3, 55-74:4, 75+:5\n",
    "\n",
    "country.head()"
   ]
  },
  {
   "cell_type": "code",
   "execution_count": 35,
   "metadata": {},
   "outputs": [
    {
     "data": {
      "text/html": [
       "<div>\n",
       "<style scoped>\n",
       "    .dataframe tbody tr th:only-of-type {\n",
       "        vertical-align: middle;\n",
       "    }\n",
       "\n",
       "    .dataframe tbody tr th {\n",
       "        vertical-align: top;\n",
       "    }\n",
       "\n",
       "    .dataframe thead th {\n",
       "        text-align: right;\n",
       "    }\n",
       "</style>\n",
       "<table border=\"1\" class=\"dataframe\">\n",
       "  <thead>\n",
       "    <tr style=\"text-align: right;\">\n",
       "      <th></th>\n",
       "      <th>Sum of suicides_no</th>\n",
       "    </tr>\n",
       "  </thead>\n",
       "  <tbody>\n",
       "    <tr>\n",
       "      <th>5-14 years</th>\n",
       "      <td>62320.0</td>\n",
       "    </tr>\n",
       "    <tr>\n",
       "      <th>15-24 years</th>\n",
       "      <td>975700.0</td>\n",
       "    </tr>\n",
       "    <tr>\n",
       "      <th>25-34 years</th>\n",
       "      <td>1360780.0</td>\n",
       "    </tr>\n",
       "    <tr>\n",
       "      <th>35-54 years</th>\n",
       "      <td>2887740.0</td>\n",
       "    </tr>\n",
       "    <tr>\n",
       "      <th>55-74 years</th>\n",
       "      <td>1955150.0</td>\n",
       "    </tr>\n",
       "    <tr>\n",
       "      <th>75+ years</th>\n",
       "      <td>756777.0</td>\n",
       "    </tr>\n",
       "  </tbody>\n",
       "</table>\n",
       "</div>"
      ],
      "text/plain": [
       "             Sum of suicides_no\n",
       "5-14 years              62320.0\n",
       "15-24 years            975700.0\n",
       "25-34 years           1360780.0\n",
       "35-54 years           2887740.0\n",
       "55-74 years           1955150.0\n",
       "75+ years              756777.0"
      ]
     },
     "execution_count": 35,
     "metadata": {},
     "output_type": "execute_result"
    }
   ],
   "source": [
    "bins = [3, 0, 1, 2, 4, 5]\n",
    "n = len(bins)\n",
    "agedata = [country[country['age']==bins[i]]['suicides_no'].values.sum() for i in range(n)]\n",
    "\n",
    "Age_df = pd.DataFrame(agedata)\n",
    "Age_df.index = ('5-14 years','15-24 years','25-34 years','35-54 years','55-74 years','75+ years')\n",
    "Age_df.columns = ['Sum of suicides_no']\n",
    "Age_df\n"
   ]
  },
  {
   "cell_type": "code",
   "execution_count": 38,
   "metadata": {},
   "outputs": [
    {
     "data": {
      "image/png": "[encoded data removed]",
      "text/plain": [
       "<Figure size 432x288 with 1 Axes>"
      ]
     },
     "metadata": {
      "needs_background": "light"
     },
     "output_type": "display_data"
    }
   ],
   "source": [
    "n = np.arange(6)\n",
    "plt.bar(n, Age_df['Sum of suicides_no'] , 0.5)\n",
    "\n",
    "plt.ylabel('Suicides')\n",
    "plt.xlabel('Year groups')\n",
    "plt.xticks(n, Age_df.index)\n",
    "plt.title('Suicides based on age groups')\n",
    "plt.yticks([500000,1000000,1500000,2000000,2500000,3000000],\n",
    "           ['0.5M','1M','1.5M','2M','2.5M','3M'])\n",
    "plt.autoscale(enable=True, axis='x', tight=True)\n",
    "plt.show()"
   ]
  },
  {
   "cell_type": "code",
   "execution_count": 39,
   "metadata": {},
   "outputs": [],
   "source": [
    "bins = [3, 0, 1, 2, 4, 5]\n",
    "n = len(bins)\n",
    "Female = country[country['sex']==0]\n",
    "femaledata = [Female[Female['age']==bins[i]]['suicides_no'].values.sum() for i in range(n)]\n",
    "\n",
    "Male = country[country['sex']==1]\n",
    "maledata = [Male[Male['age']==bins[i]]['suicides_no'].values.sum() for i in range(n)]"
   ]
  },
  {
   "cell_type": "code",
   "execution_count": 40,
   "metadata": {},
   "outputs": [
    {
     "data": {
      "text/html": [
       "<div>\n",
       "<style scoped>\n",
       "    .dataframe tbody tr th:only-of-type {\n",
       "        vertical-align: middle;\n",
       "    }\n",
       "\n",
       "    .dataframe tbody tr th {\n",
       "        vertical-align: top;\n",
       "    }\n",
       "\n",
       "    .dataframe thead th {\n",
       "        text-align: right;\n",
       "    }\n",
       "</style>\n",
       "<table border=\"1\" class=\"dataframe\">\n",
       "  <thead>\n",
       "    <tr style=\"text-align: right;\">\n",
       "      <th></th>\n",
       "      <th>Sum of male suicides_no</th>\n",
       "      <th>Sum of female suicides_no</th>\n",
       "    </tr>\n",
       "  </thead>\n",
       "  <tbody>\n",
       "    <tr>\n",
       "      <th>5-14 years</th>\n",
       "      <td>42168.0</td>\n",
       "      <td>20152.0</td>\n",
       "    </tr>\n",
       "    <tr>\n",
       "      <th>15-24 years</th>\n",
       "      <td>757391.0</td>\n",
       "      <td>218309.0</td>\n",
       "    </tr>\n",
       "    <tr>\n",
       "      <th>25-34 years</th>\n",
       "      <td>1104353.0</td>\n",
       "      <td>256427.0</td>\n",
       "    </tr>\n",
       "    <tr>\n",
       "      <th>35-54 years</th>\n",
       "      <td>2280320.0</td>\n",
       "      <td>607420.0</td>\n",
       "    </tr>\n",
       "    <tr>\n",
       "      <th>55-74 years</th>\n",
       "      <td>1426791.0</td>\n",
       "      <td>528359.0</td>\n",
       "    </tr>\n",
       "    <tr>\n",
       "      <th>75+ years</th>\n",
       "      <td>493150.0</td>\n",
       "      <td>263627.0</td>\n",
       "    </tr>\n",
       "  </tbody>\n",
       "</table>\n",
       "</div>"
      ],
      "text/plain": [
       "             Sum of male suicides_no  Sum of female suicides_no\n",
       "5-14 years                   42168.0                    20152.0\n",
       "15-24 years                 757391.0                   218309.0\n",
       "25-34 years                1104353.0                   256427.0\n",
       "35-54 years                2280320.0                   607420.0\n",
       "55-74 years                1426791.0                   528359.0\n",
       "75+ years                   493150.0                   263627.0"
      ]
     },
     "execution_count": 40,
     "metadata": {},
     "output_type": "execute_result"
    }
   ],
   "source": [
    "Female_df = pd.DataFrame(femaledata)\n",
    "Female_df.index = ('5-14 years','15-24 years','25-34 years','35-54 years','55-74 years','75+ years')\n",
    "Female_df.columns = ['Sum of female suicides_no']\n",
    "\n",
    "Male_df = pd.DataFrame(maledata)\n",
    "Male_df.index = Female_df.index\n",
    "Male_df.columns = ['Sum of male suicides_no']\n",
    "\n",
    "Sex_concat = pd.concat([Male_df, Female_df], axis = 1)\n",
    "Sex_concat\n"
   ]
  },
  {
   "cell_type": "code",
   "execution_count": 51,
   "metadata": {},
   "outputs": [
    {
     "data": {
      "image/png": "[encoded data removed]",
      "text/plain": [
       "<Figure size 432x288 with 1 Axes>"
      ]
     },
     "metadata": {
      "needs_background": "light"
     },
     "output_type": "display_data"
    }
   ],
   "source": [
    "fig, ax = plt.subplots()\n",
    "n = np.arange(6)\n",
    "bar_width = 0.25\n",
    "opacity = 0.6\n",
    "rects1 = plt.bar(n, Female_df['Sum of female suicides_no'], bar_width,\n",
    "                 alpha=opacity,\n",
    "                 color='red',\n",
    "                 label='Female')\n",
    " \n",
    "rects2 = plt.bar(n + 0.15, Male_df['Sum of male suicides_no'], bar_width,\n",
    "                 alpha=opacity,\n",
    "                 color='blue',\n",
    "                 label='Male')\n",
    "\n",
    "ax.set_ylabel('Suicides')\n",
    "ax.set_title('Suicides based on gender and age')\n",
    "ax.set_xticks(n)\n",
    "ax.set_xticklabels(Sex_concat.index)\n",
    "plt.yticks([500000,1000000,1500000,2000000,2500000],\n",
    "              ['0.5M','1M','1.5M','2M','2.5M'])\n",
    "plt.autoscale(enable=True, axis='x', tight=True)\n",
    "ax.legend()\n",
    "plt.show()"
   ]
  },
  {
   "cell_type": "code",
   "execution_count": 60,
   "metadata": {},
   "outputs": [
    {
     "data": {
      "image/png": "[encoded data removed]",
      "text/plain": [
       "<Figure size 432x288 with 1 Axes>"
      ]
     },
     "metadata": {
      "needs_background": "light"
     },
     "output_type": "display_data"
    }
   ],
   "source": [
    "US = country[country['country']=='United States of America']\n",
    "years = np.unique(US.year)\n",
    "\n",
    "a = []\n",
    "dict = {}\n",
    "for i in years:\n",
    "    sum = US[US['year']==i]['suicides_no'].values.sum()\n",
    "    dict[i] = sum \n",
    "a.append(dict)\n",
    "\n",
    "USyear_df = pd.DataFrame(a)\n",
    "USyear_df\n",
    "USyear_df = np.transpose(USyear_df)\n",
    "USyear_df.columns = ['Suicides'] \n",
    "\n",
    "plt.plot(USyear_df)\n",
    "plt.title('Suicides in United States over years')\n",
    "plt.xlabel('years')\n",
    "plt.ylabel('Suicides')\n",
    "plt.yticks([27000,30000,33000,36000,39000,42000,45000],\n",
    "           ['27K','30K','33K','36K','39K','42K','45K'])\n",
    "plt.show()"
   ]
  }
 ],
 "metadata": {
  "kernelspec": {
   "display_name": "Python 3",
   "language": "python",
   "name": "python3"
  },
  "language_info": {
   "codemirror_mode": {
    "name": "ipython",
    "version": 3
   },
   "file_extension": ".py",
   "mimetype": "text/x-python",
   "name": "python",
   "nbconvert_exporter": "python",
   "pygments_lexer": "ipython3",
   "version": "3.6.5"
  }
 },
 "nbformat": 4,
 "nbformat_minor": 2
}
